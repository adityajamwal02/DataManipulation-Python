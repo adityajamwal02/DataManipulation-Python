{
 "cells": [
  {
   "cell_type": "markdown",
   "id": "46eec0d0",
   "metadata": {},
   "source": [
    "# TIME SERIES ANALYSIS\n"
   ]
  },
  {
   "cell_type": "markdown",
   "id": "87c09877",
   "metadata": {},
   "source": [
    "### A TIME SERIES IS A SEQUENCE OF DATA MEASURED OVER REGULAR TIME INTERVALS. WE CAN CREATE MANY FORECASTING MODELS BASED ON THESE TIME SERIES ANALYSIS "
   ]
  },
  {
   "cell_type": "code",
   "execution_count": null,
   "id": "158c23ed",
   "metadata": {},
   "outputs": [],
   "source": [
    "#Real Life Applications of Time Series Analysis includes Stocks Data, Weather Data, Patient health Evolution Data"
   ]
  },
  {
   "cell_type": "code",
   "execution_count": null,
   "id": "d7816248",
   "metadata": {},
   "outputs": [],
   "source": [
    "pip install yfinance"
   ]
  },
  {
   "cell_type": "code",
   "execution_count": null,
   "id": "c9b7ea31",
   "metadata": {},
   "outputs": [],
   "source": [
    "import numpy as np\n",
    "import pandas as pd\n",
    "import yfinance as yf"
   ]
  },
  {
   "cell_type": "code",
   "execution_count": null,
   "id": "ca1f9e29",
   "metadata": {},
   "outputs": [],
   "source": [
    "# Stock Details of Apple for given time period\n",
    "df=yf.download('AAPL', start='2022-01-01', end='2022-01-31')\n",
    "df.head(10)"
   ]
  },
  {
   "cell_type": "code",
   "execution_count": null,
   "id": "f2c1637b",
   "metadata": {},
   "outputs": [],
   "source": [
    "type(df.index[0])"
   ]
  },
  {
   "cell_type": "code",
   "execution_count": null,
   "id": "7be1cf32",
   "metadata": {},
   "outputs": [],
   "source": [
    "df.index=pd.to_datetime(df.index)\n",
    "df"
   ]
  },
  {
   "cell_type": "code",
   "execution_count": null,
   "id": "b4727b73",
   "metadata": {},
   "outputs": [],
   "source": [
    "df.index=pd.to_datetime(df.index, format='%Y-%m-%d %I-%p')\n",
    "print(type(df.index[0]))\n",
    "df"
   ]
  },
  {
   "cell_type": "code",
   "execution_count": null,
   "id": "5948f793",
   "metadata": {},
   "outputs": [],
   "source": [
    "df=pd.read_csv(\"ETH_1H.csv\")\n",
    "df"
   ]
  },
  {
   "cell_type": "code",
   "execution_count": null,
   "id": "f2b434a9",
   "metadata": {},
   "outputs": [],
   "source": [
    "df.set_index(\"Date\", inplace=True)"
   ]
  },
  {
   "cell_type": "code",
   "execution_count": null,
   "id": "0c33217f",
   "metadata": {},
   "outputs": [],
   "source": [
    "jan1=pd.to_datetime('2022, 1, 1')\n",
    "jan1.day_name()"
   ]
  },
  {
   "cell_type": "code",
   "execution_count": null,
   "id": "31b204b2",
   "metadata": {},
   "outputs": [],
   "source": [
    "df.loc['2022-01-07' : '2022-01-14']"
   ]
  },
  {
   "cell_type": "code",
   "execution_count": null,
   "id": "441c714e",
   "metadata": {},
   "outputs": [],
   "source": [
    "df.loc['2022-01-02']"
   ]
  },
  {
   "cell_type": "code",
   "execution_count": null,
   "id": "3ecab34f",
   "metadata": {},
   "outputs": [],
   "source": [
    "import matplotlib.pyplot as plt\n",
    "plt.figure(figsize=(15,5))\n",
    "plt.title('Apple Stock Prices for 5 Years')\n",
    "plt.xlabel('Year')\n",
    "plt.ylabel('Price')\n",
    "plt.plot(df['Adj Close'])"
   ]
  },
  {
   "cell_type": "code",
   "execution_count": null,
   "id": "7eb60fba",
   "metadata": {},
   "outputs": [],
   "source": [
    "plt.figure(figsize=(15,5))\n",
    "plt.title('Apple Stock Prices for 5 Years')\n",
    "plt.xlabel('Year')\n",
    "plt.ylabel('Price')\n",
    "plt.plot(df.loc['2021']['Adj Close'])"
   ]
  },
  {
   "cell_type": "code",
   "execution_count": null,
   "id": "7ae90448",
   "metadata": {},
   "outputs": [],
   "source": []
  }
 ],
 "metadata": {
  "kernelspec": {
   "display_name": "Python 3",
   "language": "python",
   "name": "python3"
  },
  "language_info": {
   "codemirror_mode": {
    "name": "ipython",
    "version": 3
   },
   "file_extension": ".py",
   "mimetype": "text/x-python",
   "name": "python",
   "nbconvert_exporter": "python",
   "pygments_lexer": "ipython3",
   "version": "3.8.8"
  }
 },
 "nbformat": 4,
 "nbformat_minor": 5
}
