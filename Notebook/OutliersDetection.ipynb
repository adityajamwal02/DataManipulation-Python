{
 "cells": [
  {
   "cell_type": "markdown",
   "id": "6eafeee2",
   "metadata": {},
   "source": [
    "# OUTLIERS DETECTION"
   ]
  },
  {
   "cell_type": "markdown",
   "id": "7ad3ee4f",
   "metadata": {},
   "source": [
    "### METHOD 1 (REMOVING OUTLIERS DIRECTLY)"
   ]
  },
  {
   "cell_type": "code",
   "execution_count": 1,
   "id": "35b3ad67",
   "metadata": {},
   "outputs": [],
   "source": [
    "import pandas as pd\n",
    "x=pd.Series([1,2,3,6,7,8,140])\n",
    "mean=x.mean()\n",
    "std=x.std()\n",
    "z_scores=abs((x-mean)/std)"
   ]
  },
  {
   "cell_type": "code",
   "execution_count": 2,
   "id": "94114ad4",
   "metadata": {},
   "outputs": [
    {
     "data": {
      "text/plain": [
       "0    0.445718\n",
       "1    0.426217\n",
       "2    0.406717\n",
       "3    0.348217\n",
       "4    0.328717\n",
       "5    0.309217\n",
       "6    2.264803\n",
       "dtype: float64"
      ]
     },
     "execution_count": 2,
     "metadata": {},
     "output_type": "execute_result"
    }
   ],
   "source": [
    "z_scores"
   ]
  },
  {
   "cell_type": "code",
   "execution_count": 3,
   "id": "7b61e1cb",
   "metadata": {},
   "outputs": [
    {
     "data": {
      "text/plain": [
       "0    1\n",
       "1    2\n",
       "2    3\n",
       "3    6\n",
       "4    7\n",
       "5    8\n",
       "dtype: int64"
      ]
     },
     "execution_count": 3,
     "metadata": {},
     "output_type": "execute_result"
    }
   ],
   "source": [
    "# Value corresponding to 140 is an outier, therefore we remove it \n",
    "outliers_removed=x[z_scores<=1.5]\n",
    "outliers_removed"
   ]
  },
  {
   "cell_type": "markdown",
   "id": "825b2976",
   "metadata": {},
   "source": [
    "### METHOD 2 (MEAN/MEDIAN IMPUTATION)"
   ]
  },
  {
   "cell_type": "code",
   "execution_count": 4,
   "id": "4acb228d",
   "metadata": {},
   "outputs": [],
   "source": [
    "import numpy as np"
   ]
  },
  {
   "cell_type": "code",
   "execution_count": 5,
   "id": "4534e3ad",
   "metadata": {},
   "outputs": [],
   "source": [
    "median=np.median(x)"
   ]
  },
  {
   "cell_type": "code",
   "execution_count": 6,
   "id": "065ec2e0",
   "metadata": {},
   "outputs": [
    {
     "data": {
      "text/plain": [
       "6.0"
      ]
     },
     "execution_count": 6,
     "metadata": {},
     "output_type": "execute_result"
    }
   ],
   "source": [
    "z_scores=abs((x-mean)/std)\n",
    "median"
   ]
  },
  {
   "cell_type": "code",
   "execution_count": 7,
   "id": "1f7ba342",
   "metadata": {},
   "outputs": [
    {
     "data": {
      "text/plain": [
       "0    1\n",
       "1    2\n",
       "2    3\n",
       "3    6\n",
       "4    7\n",
       "5    8\n",
       "6    6\n",
       "dtype: int64"
      ]
     },
     "execution_count": 7,
     "metadata": {},
     "output_type": "execute_result"
    }
   ],
   "source": [
    "x[z_scores>1.5]=median\n",
    "x"
   ]
  },
  {
   "cell_type": "code",
   "execution_count": null,
   "id": "22c71a98",
   "metadata": {},
   "outputs": [],
   "source": []
  }
 ],
 "metadata": {
  "kernelspec": {
   "display_name": "Python 3",
   "language": "python",
   "name": "python3"
  },
  "language_info": {
   "codemirror_mode": {
    "name": "ipython",
    "version": 3
   },
   "file_extension": ".py",
   "mimetype": "text/x-python",
   "name": "python",
   "nbconvert_exporter": "python",
   "pygments_lexer": "ipython3",
   "version": "3.8.8"
  }
 },
 "nbformat": 4,
 "nbformat_minor": 5
}
