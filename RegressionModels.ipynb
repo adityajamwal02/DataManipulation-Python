{
 "cells": [
  {
   "cell_type": "markdown",
   "id": "8cac192d",
   "metadata": {},
   "source": [
    "# LinearRegression"
   ]
  },
  {
   "cell_type": "code",
   "execution_count": 1,
   "id": "a2b402f3",
   "metadata": {},
   "outputs": [],
   "source": [
    "import numpy as np\n",
    "import matplotlib.pyplot as plt"
   ]
  },
  {
   "cell_type": "code",
   "execution_count": 2,
   "id": "217f044d",
   "metadata": {},
   "outputs": [],
   "source": [
    "x=[1,2,3,4,5,6,7,8,9,10]\n",
    "y=[2,4,8,10,12,18,20,26,30,32]"
   ]
  },
  {
   "cell_type": "code",
   "execution_count": 3,
   "id": "fa4e7375",
   "metadata": {},
   "outputs": [
    {
     "name": "stdout",
     "output_type": "stream",
     "text": [
      "[ 3.5030303  -3.06666667]\n"
     ]
    }
   ],
   "source": [
    "function1=np.polyfit(x,y,1)\n",
    "print(function1)"
   ]
  },
  {
   "cell_type": "code",
   "execution_count": 4,
   "id": "b0a94157",
   "metadata": {},
   "outputs": [
    {
     "data": {
      "text/plain": [
       "[<matplotlib.lines.Line2D at 0x1c250fef880>]"
      ]
     },
     "execution_count": 4,
     "metadata": {},
     "output_type": "execute_result"
    },
    {
     "data": {
      "image/png": "[encoded data removed]",
      "text/plain": [
       "<Figure size 432x288 with 1 Axes>"
      ]
     },
     "metadata": {
      "needs_background": "light"
     },
     "output_type": "display_data"
    }
   ],
   "source": [
    "plt.plot(x,y,'.')"
   ]
  },
  {
   "cell_type": "code",
   "execution_count": 7,
   "id": "60842da5",
   "metadata": {},
   "outputs": [
    {
     "data": {
      "image/png": "[encoded data removed]",
      "text/plain": [
       "<Figure size 432x288 with 1 Axes>"
      ]
     },
     "metadata": {
      "needs_background": "light"
     },
     "output_type": "display_data"
    }
   ],
   "source": [
    "plt.plot(x,y,'.')\n",
    "plt.plot(x,np.polyval(function1,x),'r-')\n",
    "plt.show()"
   ]
  },
  {
   "cell_type": "markdown",
   "id": "584cfaf9",
   "metadata": {},
   "source": [
    "# ---------------------------------------------------------------------------------------------------------------"
   ]
  },
  {
   "cell_type": "markdown",
   "id": "911602e6",
   "metadata": {},
   "source": [
    "# LogisticRegression"
   ]
  },
  {
   "cell_type": "code",
   "execution_count": 8,
   "id": "e2e9b353",
   "metadata": {},
   "outputs": [],
   "source": [
    "import pandas as pd\n",
    "import seaborn as sns\n",
    "from sklearn.model_selection import train_test_split\n",
    "from sklearn.linear_model import LogisticRegression \n",
    "from sklearn import metrics"
   ]
  },
  {
   "cell_type": "code",
   "execution_count": 9,
   "id": "cfa9ca4d",
   "metadata": {},
   "outputs": [],
   "source": [
    "employee={'finance':[4,5,6,4,5,8,7,2,4,8,4,5,6,4,5,8,7,2,4,8,4,5,6,4,5,8,7,2,4,8,4,5,6,4,5,8,7,2,4,8,4,5,6,4,5,8,7,2,4,8],\n",
    "         'management':[9,4,3,7,5,6,5,6,2,3,9,4,3,7,5,6,5,6,2,3,9,4,3,7,5,6,5,6,2,3,9,4,3,7,5,6,5,6,2,3,9,4,3,7,5,6,5,6,2,3],\n",
    "         'logistic': [4,3,7,5,4,7,8,9,9,8,4,3,7,5,4,7,8,9,9,8,4,3,7,5,4,7,8,9,9,8,4,3,7,5,4,7,8,9,9,8,4,3,7,5,4,7,8,9,9,8],\n",
    "         'get_work': [1,1,0,1,0,0,0,0,0,1,1,1,0,1,0,0,0,0,0,1,1,1,0,1,0,0,0,0,0,1,1,1,0,1,0,0,0,0,0,1,1,1,0,1,0,0,0,0,0,1]\n",
    "         }"
   ]
  },
  {
   "cell_type": "code",
   "execution_count": 10,
   "id": "6b147158",
   "metadata": {},
   "outputs": [
    {
     "name": "stdout",
     "output_type": "stream",
     "text": [
      "    finance  management  logistic  get_work\n",
      "0         4           9         4         1\n",
      "1         5           4         3         1\n",
      "2         6           3         7         0\n",
      "3         4           7         5         1\n",
      "4         5           5         4         0\n",
      "5         8           6         7         0\n",
      "6         7           5         8         0\n",
      "7         2           6         9         0\n",
      "8         4           2         9         0\n",
      "9         8           3         8         1\n",
      "10        4           9         4         1\n",
      "11        5           4         3         1\n",
      "12        6           3         7         0\n",
      "13        4           7         5         1\n",
      "14        5           5         4         0\n",
      "15        8           6         7         0\n",
      "16        7           5         8         0\n",
      "17        2           6         9         0\n",
      "18        4           2         9         0\n",
      "19        8           3         8         1\n",
      "20        4           9         4         1\n",
      "21        5           4         3         1\n",
      "22        6           3         7         0\n",
      "23        4           7         5         1\n",
      "24        5           5         4         0\n",
      "25        8           6         7         0\n",
      "26        7           5         8         0\n",
      "27        2           6         9         0\n",
      "28        4           2         9         0\n",
      "29        8           3         8         1\n",
      "30        4           9         4         1\n",
      "31        5           4         3         1\n",
      "32        6           3         7         0\n",
      "33        4           7         5         1\n",
      "34        5           5         4         0\n",
      "35        8           6         7         0\n",
      "36        7           5         8         0\n",
      "37        2           6         9         0\n",
      "38        4           2         9         0\n",
      "39        8           3         8         1\n",
      "40        4           9         4         1\n",
      "41        5           4         3         1\n",
      "42        6           3         7         0\n",
      "43        4           7         5         1\n",
      "44        5           5         4         0\n",
      "45        8           6         7         0\n",
      "46        7           5         8         0\n",
      "47        2           6         9         0\n",
      "48        4           2         9         0\n",
      "49        8           3         8         1\n"
     ]
    }
   ],
   "source": [
    "data=pd.DataFrame(employee,columns=['finance','management','logistic','get_work'])\n",
    "print(data)"
   ]
  },
  {
   "cell_type": "code",
   "execution_count": 24,
   "id": "bb5a4733",
   "metadata": {},
   "outputs": [
    {
     "name": "stdout",
     "output_type": "stream",
     "text": [
      "Accuracy:  0.8666666666666667\n"
     ]
    },
    {
     "data": {
      "image/png": "[encoded data removed]",
      "text/plain": [
       "<Figure size 432x288 with 2 Axes>"
      ]
     },
     "metadata": {
      "needs_background": "light"
     },
     "output_type": "display_data"
    }
   ],
   "source": [
    "x=data[['finance','management','logistic']]\n",
    "y=data['get_work']\n",
    "\n",
    "x_train,x_test,y_train,y_test=train_test_split(x,y,test_size=0.3,random_state=0)\n",
    "lr=LogisticRegression()\n",
    "lr.fit(x_train,y_train)\n",
    "\n",
    "y_pred=lr.predict(x_test)\n",
    "\n",
    "#Confusion Matrix\n",
    "conf_mat=pd.crosstab(y_test,y_pred,rownames=['True'],colnames=['prevision'])\n",
    "sns.heatmap(conf_mat, annot=True)\n",
    "                     \n",
    "print('Accuracy: ', metrics.accuracy_score(y_test,y_pred))\n",
    "plt.show()"
   ]
  },
  {
   "cell_type": "code",
   "execution_count": null,
   "id": "40087055",
   "metadata": {},
   "outputs": [],
   "source": []
  }
 ],
 "metadata": {
  "kernelspec": {
   "display_name": "Python 3",
   "language": "python",
   "name": "python3"
  },
  "language_info": {
   "codemirror_mode": {
    "name": "ipython",
    "version": 3
   },
   "file_extension": ".py",
   "mimetype": "text/x-python",
   "name": "python",
   "nbconvert_exporter": "python",
   "pygments_lexer": "ipython3",
   "version": "3.8.8"
  }
 },
 "nbformat": 4,
 "nbformat_minor": 5
}
